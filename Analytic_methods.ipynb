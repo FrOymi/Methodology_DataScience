{
  "metadata": {
    "kernelspec": {
      "name": "python",
      "display_name": "Python (Pyodide)",
      "language": "python"
    },
    "language_info": {
      "codemirror_mode": {
        "name": "python",
        "version": 3
      },
      "file_extension": ".py",
      "mimetype": "text/x-python",
      "name": "python",
      "nbconvert_exporter": "python",
      "pygments_lexer": "ipython3",
      "version": "3.8"
    }
  },
  "nbformat_minor": 5,
  "nbformat": 4,
  "cells": [
    {
      "id": "5b2330d0-4731-45ae-a31a-73301613ebfc",
      "cell_type": "markdown",
      "source": "# Аналитические подходы и методы\n\n| **Тип вопроса** | **Метод** | **Определение** |\n| ----- | ------ | ----- |\n| **1. Descriptive** (Что происходит?) | **Data aggregation** | Объединение данных из разных источников в единое представление |\n| | **Data mining** | Извлечение полезной информации из больших массивов данных |\n| | **Data visualization** | Представление данных в визуальной форме (графики, диаграммы и т.п.) |\n| **2. Diagnostic** (Почему это произошло?) | **Drill-down** | Детальное исследование данных для выявления причин |\n| | **Data discovery** | Обнаружение закономерностей и связей в данных |\n| | **Correlation analysis** | Анализ взаимосвязей между переменными |\n| **3. Predictive** (Что, вероятно, произойдёт?) | **Regression analysis** | Предсказание значений на основе зависимостей между переменными |\n| | **Time series forecasting**  | Прогнозирование будущих значений на основе временных данных |\n| | **Machine learning models**  | Алгоритмы, обучающиеся на данных, чтобы предсказывать будущие события |\n| **4. Prescriptive** (Что нам делать?) | **Optimization models** | Поиск наилучшего решения среди возможных |\n| | **Simulation** | Моделирование различных сценариев и анализ их последствий |\n| | **Decision analysis** | Оценка и сравнение разных вариантов решений |\n| **5. Classification** (К какой категории относится?) | **Logistic regression** | Предсказание вероятности принадлежности к категории (например, да/нет) |\n| | **Decision trees** | Разделение данных на категории с помощью правил |\n| | **Support vector machines (SVM)** | Нахождение наилучшей границы между категориями |\n| | **Neural networks** | Сложные модели, имитирующие работу мозга для распознавания и классификации |\n",
      "metadata": {}
    },
    {
      "id": "a8505ad5-ec55-490e-acc1-4816934c1999",
      "cell_type": "code",
      "source": "",
      "metadata": {
        "trusted": true
      },
      "outputs": [],
      "execution_count": null
    }
  ]
}