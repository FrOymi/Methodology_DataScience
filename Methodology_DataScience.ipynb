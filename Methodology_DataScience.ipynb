{
  "metadata": {
    "kernelspec": {
      "name": "python",
      "display_name": "Python (Pyodide)",
      "language": "python"
    },
    "language_info": {
      "codemirror_mode": {
        "name": "python",
        "version": 3
      },
      "file_extension": ".py",
      "mimetype": "text/x-python",
      "name": "python",
      "nbconvert_exporter": "python",
      "pygments_lexer": "ipython3",
      "version": "3.8"
    }
  },
  "nbformat_minor": 5,
  "nbformat": 4,
  "cells": [
    {
      "id": "fc84ed2a-433c-4eeb-a634-fe9acf886ad1",
      "cell_type": "markdown",
      "source": "# Методология Data Science\nМетодология — система методов в определённой области, направляющая процесс исследования.\n\n### Стадии:\n1. **Business Understanding** — понять бизнес-проблему\n2. **Analytic Approach** — выбрать аналитический подход\n3. **Data Requirements** — определить, какие данные нужны\n4. **Data Collection** — собрать данные\n5. **Data Understanding** — изучить данные\n6. **Data Preparation** — очистить и подготовить данные\n7. **Modeling** — построить модель\n8. **Evaluation** — оценить модель\n9. **Deployment** — внедрить решение\n10. **Feedback** — собрать обратную связь и улучшить",
      "metadata": {}
    },
    {
      "id": "027cc490-456d-4ff3-8a6a-4072e8cf6683",
      "cell_type": "markdown",
      "source": "## 1. Business Understanding\nПервый шаг в методологии Data Science — понять суть бизнес-проблемы.  \nБез чёткого понимания вопроса, который нужно решить, даже самая точная модель может оказаться бесполезной.\n\n#### Почему это важно?\nПредставь ситуацию: тебе поручили важную задачу с жёстким дедлайном. Ты обсудил всё с начальником, но позже понял, что не хватает информации. И вот ты стоишь перед выбором: идти вслепую или остановиться и задать уточняющие вопросы. Методология Data Science говорит: обязательно остановись и уточни. Потому что:\n\nПлохо понятый вопрос = неправильно подобранные данные = бесполезный результат.\n\nХорошее начало — это половина дела.",
      "metadata": {}
    },
    {
      "id": "7264fe0a-aed2-4f9e-a4f7-7ec1d8a49beb",
      "cell_type": "markdown",
      "source": "## 2. Analytic Approach\nПосле того как проблема, которую нужно решить, была определена,  \nподбирается соответствующий аналитический подход — с учётом бизнес-требований.\n\n#### Когда достигнуто чёткое понимание вопроса, можно выбрать аналитический подход.\n| Тип вопроса | Пример вопроса | Подход | Основные методы | Примеры |\n| ---- | ---- | ---- | ---- | ---- |\n| **Descriptive** | Что происходит сейчас? | Descriptive Analytics | Агрегация данных, визуализация, отчёты | Дашборды, суммарные отчёты |\n| **Diagnostic**  | Почему это произошло?  | Diagnostic Analytics | Drill-down, корреляция, поиск причин | Причины спада продаж, ошибки в процессах |\n| **Predictive**  | Что, вероятно, произойдёт? | Predictive Analytics | Регрессия, временные ряды, ML модели | Прогноз продаж, отток клиентов |\n| **Prescriptive** | Что мы должны сделать? | Prescriptive Analytics | Оптимизация, симуляции, анализ решений | Рекомендации по ценообразованию |\n| **Classification** | К какой категории это относится? | Classification (ML) | Логистическая регрессия, деревья, нейросети | Детекция спама, диагностика болезней |\n\n**Как это работает:**  \nКогда тебе дают задачу, ты не бросаешься сразу писать код,  \nа сначала определяешь тип вопроса.  \nЭто поможет выбрать правильный инструмент анализа.\n\n[Аналитические подходы и методы](https://github.com/FrOymi/Methodology_DataScience/blob/main/Analytic_methods.ipynb)",
      "metadata": {}
    },
    {
      "id": "e00fffc4-e612-4d44-9620-eb3081667d15",
      "cell_type": "code",
      "source": "",
      "metadata": {
        "trusted": true
      },
      "outputs": [],
      "execution_count": null
    },
    {
      "id": "5e6d3dc9-455c-444e-8ab3-d9804c59be32",
      "cell_type": "code",
      "source": "",
      "metadata": {
        "trusted": true
      },
      "outputs": [],
      "execution_count": null
    }
  ]
}
